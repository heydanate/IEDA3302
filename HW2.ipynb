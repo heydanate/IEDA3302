{
  "nbformat": 4,
  "nbformat_minor": 0,
  "metadata": {
    "colab": {
      "provenance": []
    },
    "kernelspec": {
      "name": "python3",
      "display_name": "Python 3"
    },
    "language_info": {
      "name": "python"
    }
  },
  "cells": [
    {
      "cell_type": "markdown",
      "source": [
        "Q1. Secure communications\n",
        "\n",
        "(a)The Eratosthenes’ sieve is a famous and relatively efficient method to determine the factors of a given integer. Implement your version of this as a python function, called “prime_factors( n)” that prints the list of prime factors of a given positive integer n (your code will only be tested for positive integers) at the end, your function should also print out the time that it took to compute and print out the factors"
      ],
      "metadata": {
        "id": "g61Ps9ApNz01"
      }
    },
    {
      "cell_type": "code",
      "source": [
        "import math\n",
        "import time\n",
        "\n",
        "def prime_factors(n):\n",
        "    start_time = time.time()\n",
        "    factors = []\n",
        "\n",
        "    # Divide the number by 2 until it is no longer divisible by 2\n",
        "    while n % 2 == 0:\n",
        "        factors.append(2)\n",
        "        n = n // 2\n",
        "\n",
        "    # Check for divisibility by odd numbers starting from 3\n",
        "    for i in range(3, int(math.sqrt(n)) + 1, 2):\n",
        "        while n % i == 0:\n",
        "            factors.append(i)\n",
        "            n = n // i\n",
        "\n",
        "    # If the remaining number is greater than 2, it must be a prime factor\n",
        "    if n > 2:\n",
        "        factors.append(n)\n",
        "\n",
        "    # end_time = time.time()\n",
        "    # computation_time = end_time - start_time\n",
        "\n",
        "    print(\"Prime factors of\", number, \"are:\", factors)\n",
        "    # print(\"Computation time:\", start_time, \"seconds\")\n",
        "\n",
        "# start_time = time.time()\n",
        "print(\"Enter a number:\")\n",
        "number = int(input())\n",
        "start_time = time.time()\n",
        "\n",
        "prime_factors(number)\n",
        "end_time = time.time()\n",
        "computation_time = end_time - start_time\n",
        "print(\"Computation time:\", computation_time, \"seconds\")"
      ],
      "metadata": {
        "colab": {
          "base_uri": "https://localhost:8080/"
        },
        "id": "vX-rbRenNywr",
        "outputId": "89c1edbf-f3a9-4c24-9ea3-b51bd5d87128"
      },
      "execution_count": 76,
      "outputs": [
        {
          "output_type": "stream",
          "name": "stdout",
          "text": [
            "Enter a number:\n",
            "12345678\n",
            "Prime factors of 12345678 are: [2, 3, 3, 47, 14593]\n",
            "Computation time: 0.0022754669189453125 seconds\n"
          ]
        }
      ]
    },
    {
      "cell_type": "markdown",
      "source": [
        "(b) Write a loop that repeatedly calls your function prime_factors(..), each time providing an input that is a random integer with 10, 11, 12, ... digits, until the running time becomes larger than 60 seconds (note, since the input is random, the running time will vary on each run, even with same number of digits)"
      ],
      "metadata": {
        "id": "cvVchTNBP8n0"
      }
    },
    {
      "cell_type": "code",
      "source": [
        "import random\n",
        "import math\n",
        "import time\n",
        "\n",
        "digits = 10  # Initial number of digits\n",
        "\n",
        "while True:\n",
        "    # Generate a random number between 10**(digits-1) and 10**digits - 1 (inclusive)\n",
        "    n = random.randint(10**(digits-1), 10**digits - 1)\n",
        "    x = n\n",
        "\n",
        "    # Skip numbers with less than 10 digits\n",
        "    if len(str(n)) < digits:\n",
        "        continue\n",
        "\n",
        "    factors = []\n",
        "\n",
        "    # Start the computation timer\n",
        "    start_time = time.time()\n",
        "\n",
        "    # Divide the number by 2 until it is no longer divisible by 2\n",
        "    while n % 2 == 0:\n",
        "        factors.append(2)\n",
        "        n = n // 2\n",
        "        # Check if computation time exceeds 60 seconds\n",
        "        if time.time() - start_time > 60:\n",
        "            break\n",
        "\n",
        "    # Check for divisibility by odd numbers starting from 3\n",
        "    for i in range(3, int(math.sqrt(n)) + 1, 2):\n",
        "        while n % i == 0:\n",
        "            factors.append(i)\n",
        "            n = n // i\n",
        "            # Check if computation time exceeds 60 seconds\n",
        "            if time.time() - start_time > 60:\n",
        "                break\n",
        "\n",
        "        if time.time() - start_time > 60:\n",
        "            break  # Exit the for loop if time limit exceeded\n",
        "\n",
        "    # If the remaining number is greater than 2, it must be a prime factor\n",
        "    if n > 2:\n",
        "        factors.append(n)\n",
        "\n",
        "    # Exclude the prime factorization of 1\n",
        "    if len(factors) > 0 and factors[0] != 1:\n",
        "        # Print the prime factors and computation time for each number\n",
        "        computation_time = time.time() - start_time\n",
        "        print(\"Prime factors of\", x, \"are:\", factors)\n",
        "        print(\"Computation time:\", computation_time, \"seconds\")\n",
        "    if time.time() - start_time > 60:\n",
        "        break  # Exit the for loop if time limit exceeded\n",
        "    digits += 1  # Increase the number of digits for the next iteration"
      ],
      "metadata": {
        "colab": {
          "base_uri": "https://localhost:8080/"
        },
        "id": "FPX71EHkjodD",
        "outputId": "c80e3827-d0fd-4379-9a63-89a07db7516e"
      },
      "execution_count": 77,
      "outputs": [
        {
          "output_type": "stream",
          "name": "stdout",
          "text": [
            "Prime factors of 4749385136 are: [2, 2, 2, 2, 296836571]\n",
            "Computation time: 0.006878376007080078 seconds\n",
            "Prime factors of 65055573678 are: [2, 3, 19, 59, 89, 108677]\n",
            "Computation time: 0.02869129180908203 seconds\n",
            "Prime factors of 305197478729 are: [11, 13, 13, 13, 31, 407377]\n",
            "Computation time: 0.09635066986083984 seconds\n",
            "Prime factors of 5941668833346 are: [2, 3, 71, 1097, 12714293]\n",
            "Computation time: 0.2646341323852539 seconds\n",
            "Prime factors of 29109138580241 are: [73, 293, 1360939669]\n",
            "Computation time: 1.0065171718597412 seconds\n",
            "Prime factors of 100549586449347 are: [3, 7, 29, 383, 431086301]\n",
            "Computation time: 1.6110033988952637 seconds\n",
            "Prime factors of 4171904557311043 are: [7, 907, 657096323407]\n",
            "Computation time: 13.219452142715454 seconds\n",
            "Prime factors of 78556100239785928 are: [2, 2, 2, 17, 1259, 61261, 7489127]\n",
            "Computation time: 17.788087368011475 seconds\n",
            "Prime factors of 413836661788867731 are: [3, 2887, 47781625884871]\n",
            "Computation time: 60.00000786781311 seconds\n"
          ]
        }
      ]
    },
    {
      "cell_type": "markdown",
      "source": [
        "Q2. E-Commerce security\n",
        "\n",
        "(a) Is it possible for a server different from the one that you specified in the URL of your client browser’s location-bar to set a cookie on the client? How is this achieved? (please provide a brief description in your words)"
      ],
      "metadata": {
        "id": "kFXnDPPlEMGY"
      }
    },
    {
      "cell_type": "markdown",
      "source": [
        "Yes, it is possible for a server different from the one that you specified in the URL of your client browser’s location-bar to set a cookie on the client.\n",
        "\n",
        "This is generated by the use of third-party cookies. Third-party cookies are generated and placed on the user’s device by a different website other than the one the user is visiting. They are created when a user visits a website that includes elements from other sites, such as third-party images or ads.\n",
        "\n",
        "One simple example of this is when the user plays an embedded YouTube video on a website, the YouTube server will set cookies on their device. This cookie tracks your online behavior and collects data about your interests. It will track user preferences and suggest similar videos when they visit YouTube. This is because Youtube will recognize the user based on the unique ID stored by third-party cookies. The third-party website will then place a targeted video based on your viewing history."
      ],
      "metadata": {
        "id": "TTmXWYe5rXj4"
      }
    },
    {
      "cell_type": "markdown",
      "source": [
        "(b) In what sense does the above behaviour of websites potentially compromise the client’s security?"
      ],
      "metadata": {
        "id": "PPifs26EGkSv"
      }
    },
    {
      "cell_type": "markdown",
      "source": [
        "Third-party cookies can lead to some significant security risks. These include:\n",
        "\n",
        "1. Browsing Data Theft: Cybercriminals can possibly steal your browsing data. This data includes the sites you visit, your searches, and items you buy online. It can also include saved passwords and where you're located.\n",
        "2. Data Leakage: Sometimes, a site might leak or give away your data. This can happen if the site uses malicious third-party services.\n",
        "3. Targeted Attacks: With your browsing data leaked, hackers can make personalized attacks. These attacks can harm your business financially or damage your reputation.\n",
        "\n",
        "These are some ways how it can compromise the client's security."
      ],
      "metadata": {
        "id": "qljc0PhxvyCF"
      }
    }
  ]
}
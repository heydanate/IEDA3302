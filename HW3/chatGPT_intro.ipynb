{
 "cells": [
  {
   "cell_type": "code",
   "execution_count": 2,
   "metadata": {
    "collapsed": true
   },
   "outputs": [
    {
     "name": "stdout",
     "output_type": "stream",
     "text": [
      "Collecting openai\n",
      "  Downloading https://files.pythonhosted.org/packages/1e/9f/385c25502f437686e4aa715969e5eaf5c2cb5e5ffa7c5cdd52f3c6ae967a/openai-0.28.1-py3-none-any.whl (76kB)\n",
      "Requirement already satisfied: typing-extensions; python_version < \"3.8\" in c:\\users\\joneja\\appdata\\local\\continuum\\anaconda3\\lib\\site-packages (from openai) (4.5.0)\n",
      "Requirement already satisfied: tqdm in c:\\users\\joneja\\appdata\\local\\continuum\\anaconda3\\lib\\site-packages (from openai) (4.32.1)\n",
      "Collecting aiohttp (from openai)\n",
      "  Downloading https://files.pythonhosted.org/packages/51/4c/e7f74722f82269f2482ef321daff341d5461a40af68bb7f9d016b98fba9c/aiohttp-3.8.6-cp37-cp37m-win_amd64.whl (326kB)\n",
      "Requirement already satisfied: requests>=2.20 in c:\\users\\joneja\\appdata\\local\\continuum\\anaconda3\\lib\\site-packages (from openai) (2.28.1)\n",
      "Requirement already satisfied: attrs>=17.3.0 in c:\\users\\joneja\\appdata\\local\\continuum\\anaconda3\\lib\\site-packages (from aiohttp->openai) (22.1.0)\n",
      "Requirement already satisfied: charset-normalizer<4.0,>=2.0 in c:\\users\\joneja\\appdata\\local\\continuum\\anaconda3\\lib\\site-packages (from aiohttp->openai) (2.0.4)\n",
      "Collecting aiosignal>=1.1.2 (from aiohttp->openai)\n",
      "  Using cached https://files.pythonhosted.org/packages/76/ac/a7305707cb852b7e16ff80eaf5692309bde30e2b1100a1fcacdc8f731d97/aiosignal-1.3.1-py3-none-any.whl\n",
      "Collecting async-timeout<5.0,>=4.0.0a3 (from aiohttp->openai)\n",
      "  Downloading https://files.pythonhosted.org/packages/a7/fa/e01228c2938de91d47b307831c62ab9e4001e747789d0b05baf779a6488c/async_timeout-4.0.3-py3-none-any.whl\n",
      "Collecting asynctest==0.13.0; python_version < \"3.8\" (from aiohttp->openai)\n",
      "  Using cached https://files.pythonhosted.org/packages/e8/b6/8d17e169d577ca7678b11cd0d3ceebb0a6089a7f4a2de4b945fe4b1c86db/asynctest-0.13.0-py3-none-any.whl\n",
      "Collecting frozenlist>=1.1.1 (from aiohttp->openai)\n",
      "  Using cached https://files.pythonhosted.org/packages/20/f9/5beca2597a95de184dc695bc6ff53e551e45dd59f7a885e52514b76bf48b/frozenlist-1.3.3-cp37-cp37m-win_amd64.whl\n",
      "Collecting yarl<2.0,>=1.0 (from aiohttp->openai)\n",
      "  Downloading https://files.pythonhosted.org/packages/7a/ff/b490d9995b23e8e6d773679b8f3c8347defe39570f63f3eb391ad208d853/yarl-1.9.2-cp37-cp37m-win_amd64.whl (61kB)\n",
      "Collecting multidict<7.0,>=4.5 (from aiohttp->openai)\n",
      "  Downloading https://files.pythonhosted.org/packages/1b/7c/705e0f14225a748b0729d97095283b2251dbf7cada28bfe75a11b7cf2d0c/multidict-6.0.4-cp37-cp37m-win_amd64.whl\n",
      "Requirement already satisfied: idna<4,>=2.5 in c:\\users\\joneja\\appdata\\local\\continuum\\anaconda3\\lib\\site-packages (from requests>=2.20->openai) (2.8)\n",
      "Requirement already satisfied: certifi>=2017.4.17 in c:\\users\\joneja\\appdata\\local\\continuum\\anaconda3\\lib\\site-packages (from requests>=2.20->openai) (2022.12.7)\n",
      "Requirement already satisfied: urllib3<1.27,>=1.21.1 in c:\\users\\joneja\\appdata\\local\\continuum\\anaconda3\\lib\\site-packages (from requests>=2.20->openai) (1.26.14)\n",
      "Installing collected packages: frozenlist, aiosignal, async-timeout, asynctest, multidict, yarl, aiohttp, openai\n",
      "Successfully installed aiohttp-3.8.6 aiosignal-1.3.1 async-timeout-4.0.3 asynctest-0.13.0 frozenlist-1.3.3 multidict-6.0.4 openai-0.28.1 yarl-1.9.2\n"
     ]
    }
   ],
   "source": [
    "# Install openai package\n",
    "!pip install openai"
   ]
  },
  {
   "cell_type": "code",
   "execution_count": 3,
   "metadata": {},
   "outputs": [],
   "source": [
    "import openai\n",
    "openai.api_type = \"azure\"\n",
    "openai.api_base = \"https://hkust.azure-api.net\"\n",
    "openai.api_version = \"2023-07-01-preview\"\n",
    "\n",
    "# Replace this by your own api key\n",
    "openai.api_key = \"5b123456e63d4c9ca1c83swed93e8baa\""
   ]
  },
  {
   "cell_type": "code",
   "execution_count": 10,
   "metadata": {},
   "outputs": [],
   "source": [
    "# send a prompt to chatGPT, in this case, the prompt \"Can chatGPT do sentiment analysis?\"\n",
    "response = openai.ChatCompletion.create(\n",
    "    engine=\"gpt-35-turbo\",# Other options: gpt-35-turbo-16k, gpt-4, gpt-4-32k\n",
    "    messages=[\n",
    "        {\"role\": \"user\", \"content\": \"Can chatGPT API do sentiment analysis?\"}\n",
    "    ],\n",
    ")"
   ]
  },
  {
   "cell_type": "code",
   "execution_count": 11,
   "metadata": {},
   "outputs": [],
   "source": [
    "# Display the message only\n",
    "print(response['choices'][0]['message']['content'])"
   ]
  },
  {
   "cell_type": "code",
   "execution_count": 12,
   "metadata": {},
   "outputs": [],
   "source": [
    "# Send a longer prompt to chatGPT (notice the use of '\\' to break the text into multiple lines)\n",
    "response = openai.ChatCompletion.create(\n",
    "    engine=\"gpt-35-turbo\",# Other options: gpt-35-turbo-16k, gpt-4, gpt-4-32k\n",
    "    messages=[\n",
    "        {\"role\": \"user\", \"content\": \"On a scale of 0 to 5, with zero being the least favorable and 5 as the most favorable, \\\n",
    "         how would you rate the following review of a restaurant: \\\n",
    "         I was looking forward to visiting as there was much buzz around the place. \\\n",
    "         But I'm wary HK is always full of the latest 'must go to' restaurants. But this did not disappoint.\\\n",
    "         The service was wonderful, the food was fabulous. And the lamb and beef, the tenderness of the meat was sumptuous . \\\n",
    "         Thank you Chatt. Keep up the great work and reputation. \"}\n",
    "    ],\n",
    ")"
   ]
  },
  {
   "cell_type": "code",
   "execution_count": 13,
   "metadata": {},
   "outputs": [],
   "source": [
    "# Display the message only\n",
    "print(response['choices'][0]['message']['content'])"
   ]
  },
  {
   "cell_type": "code",
   "execution_count": null,
   "metadata": {},
   "outputs": [],
   "source": []
  }
 ],
 "metadata": {
  "kernelspec": {
   "display_name": "Python 3 (ipykernel)",
   "language": "python",
   "name": "python3"
  },
  "language_info": {
   "codemirror_mode": {
    "name": "ipython",
    "version": 3
   },
   "file_extension": ".py",
   "mimetype": "text/x-python",
   "name": "python",
   "nbconvert_exporter": "python",
   "pygments_lexer": "ipython3",
   "version": "3.11.4"
  }
 },
 "nbformat": 4,
 "nbformat_minor": 2
}
